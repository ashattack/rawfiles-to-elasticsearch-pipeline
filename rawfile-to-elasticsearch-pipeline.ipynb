{
 "cells": [
  {
   "cell_type": "markdown",
   "metadata": {},
   "source": [
    "## Indexing"
   ]
  },
  {
   "cell_type": "code",
   "execution_count": 1,
   "metadata": {},
   "outputs": [],
   "source": [
    "import zipfile\n",
    "import json\n",
    "import pandas as pd\n",
    "import numpy as np\n",
    "\n",
    "from tqdm import tqdm_notebook\n",
    "from datetime import datetime\n",
    "from elasticsearch import Elasticsearch\n",
    "from elasticsearch import helpers\n",
    "import datetime\n",
    "from pprint import pprint\n",
    "\n",
    "\n",
    "import boto3\n",
    "from elasticsearch import RequestsHttpConnection\n",
    "from requests_aws4auth import AWS4Auth"
   ]
  },
  {
   "cell_type": "markdown",
   "metadata": {},
   "source": [
    "### elasticsearch mapping, bulk file, AWS endpoint"
   ]
  },
  {
   "cell_type": "code",
   "execution_count": 2,
   "metadata": {},
   "outputs": [],
   "source": [
    "#INDENTIFY MAPPING & INDEX & AWS ES Endpoint(IF RUNNING ON AWS)\n",
    "\n",
    "mapping_name = 'movies'\n",
    "index_name = 'movies'\n",
    "es_endpoint = 'put your aws elasticsearch endpoint here'"
   ]
  },
  {
   "cell_type": "code",
   "execution_count": 3,
   "metadata": {},
   "outputs": [
    {
     "data": {
      "text/html": [
       "<div>\n",
       "<style scoped>\n",
       "    .dataframe tbody tr th:only-of-type {\n",
       "        vertical-align: middle;\n",
       "    }\n",
       "\n",
       "    .dataframe tbody tr th {\n",
       "        vertical-align: top;\n",
       "    }\n",
       "\n",
       "    .dataframe thead th {\n",
       "        text-align: right;\n",
       "    }\n",
       "</style>\n",
       "<table border=\"1\" class=\"dataframe\">\n",
       "  <thead>\n",
       "    <tr style=\"text-align: right;\">\n",
       "      <th></th>\n",
       "      <th>title</th>\n",
       "      <th>year</th>\n",
       "      <th>rating</th>\n",
       "      <th>rank</th>\n",
       "      <th>genres</th>\n",
       "      <th>plot</th>\n",
       "      <th>directors</th>\n",
       "      <th>actors</th>\n",
       "      <th>release_date</th>\n",
       "      <th>running_time_secs</th>\n",
       "      <th>image_url</th>\n",
       "    </tr>\n",
       "  </thead>\n",
       "  <tbody>\n",
       "    <tr>\n",
       "      <th>0</th>\n",
       "      <td>(500) Days of Summer</td>\n",
       "      <td>2009</td>\n",
       "      <td>7.8</td>\n",
       "      <td>269</td>\n",
       "      <td>['Comedy', 'Drama', 'Romance']</td>\n",
       "      <td>An offbeat romantic comedy about a woman who d...</td>\n",
       "      <td>['Marc Webb']</td>\n",
       "      <td>['Zooey Deschanel', 'Joseph Gordon-Levitt', 'G...</td>\n",
       "      <td>2009-01-17</td>\n",
       "      <td>5700</td>\n",
       "      <td>http://ia.media-imdb.com/images/M/MV5BMTk5MjM4...</td>\n",
       "    </tr>\n",
       "    <tr>\n",
       "      <th>1</th>\n",
       "      <td>+1</td>\n",
       "      <td>2013</td>\n",
       "      <td>5.6</td>\n",
       "      <td>401</td>\n",
       "      <td>['Sci-Fi', 'Thriller']</td>\n",
       "      <td>Three college friends hit the biggest party of...</td>\n",
       "      <td>['Dennis Iliadis']</td>\n",
       "      <td>['Rhys Wakefield', 'Logan Miller', 'Ashley Hin...</td>\n",
       "      <td>2013-03-10</td>\n",
       "      <td>5700</td>\n",
       "      <td>http://ia.media-imdb.com/images/M/MV5BMTQwOTA5...</td>\n",
       "    </tr>\n",
       "    <tr>\n",
       "      <th>2</th>\n",
       "      <td>10</td>\n",
       "      <td>1979</td>\n",
       "      <td>5.9</td>\n",
       "      <td>2862</td>\n",
       "      <td>['Comedy', 'Romance']</td>\n",
       "      <td>A Hollywood songwriter goes through a mid-life...</td>\n",
       "      <td>['Blake Edwards']</td>\n",
       "      <td>['Dudley Moore', 'Bo Derek', 'Julie Andrews']</td>\n",
       "      <td>1979-10-05</td>\n",
       "      <td>7320</td>\n",
       "      <td>http://ia.media-imdb.com/images/M/MV5BMTg1NDQ1...</td>\n",
       "    </tr>\n",
       "    <tr>\n",
       "      <th>3</th>\n",
       "      <td>10 Items or Less</td>\n",
       "      <td>2006</td>\n",
       "      <td>6.6</td>\n",
       "      <td>4401</td>\n",
       "      <td>['Comedy', 'Drama', 'Romance']</td>\n",
       "      <td>An actor (Freeman) prepping for an upcoming ro...</td>\n",
       "      <td>['Brad Silberling']</td>\n",
       "      <td>['Morgan Freeman', 'Paz Vega', 'Jonah Hill']</td>\n",
       "      <td>2006-09-11</td>\n",
       "      <td>4920</td>\n",
       "      <td>http://ia.media-imdb.com/images/M/MV5BMTI1MTU4...</td>\n",
       "    </tr>\n",
       "    <tr>\n",
       "      <th>4</th>\n",
       "      <td>10 Rillington Place</td>\n",
       "      <td>1971</td>\n",
       "      <td>7.5</td>\n",
       "      <td>2605</td>\n",
       "      <td>['Biography', 'Crime', 'Drama', 'Horror', 'Thr...</td>\n",
       "      <td>NaN</td>\n",
       "      <td>['Richard Fleischer']</td>\n",
       "      <td>['Richard Attenborough', 'Judy Geeson', 'John ...</td>\n",
       "      <td>1971-02-10</td>\n",
       "      <td>6660</td>\n",
       "      <td>http://ia.media-imdb.com/images/M/MV5BMTc4MzM5...</td>\n",
       "    </tr>\n",
       "  </tbody>\n",
       "</table>\n",
       "</div>"
      ],
      "text/plain": [
       "                  title  year  rating  rank  \\\n",
       "0  (500) Days of Summer  2009     7.8   269   \n",
       "1                    +1  2013     5.6   401   \n",
       "2                    10  1979     5.9  2862   \n",
       "3      10 Items or Less  2006     6.6  4401   \n",
       "4   10 Rillington Place  1971     7.5  2605   \n",
       "\n",
       "                                              genres  \\\n",
       "0                     ['Comedy', 'Drama', 'Romance']   \n",
       "1                             ['Sci-Fi', 'Thriller']   \n",
       "2                              ['Comedy', 'Romance']   \n",
       "3                     ['Comedy', 'Drama', 'Romance']   \n",
       "4  ['Biography', 'Crime', 'Drama', 'Horror', 'Thr...   \n",
       "\n",
       "                                                plot              directors  \\\n",
       "0  An offbeat romantic comedy about a woman who d...          ['Marc Webb']   \n",
       "1  Three college friends hit the biggest party of...     ['Dennis Iliadis']   \n",
       "2  A Hollywood songwriter goes through a mid-life...      ['Blake Edwards']   \n",
       "3  An actor (Freeman) prepping for an upcoming ro...    ['Brad Silberling']   \n",
       "4                                                NaN  ['Richard Fleischer']   \n",
       "\n",
       "                                              actors release_date  \\\n",
       "0  ['Zooey Deschanel', 'Joseph Gordon-Levitt', 'G...   2009-01-17   \n",
       "1  ['Rhys Wakefield', 'Logan Miller', 'Ashley Hin...   2013-03-10   \n",
       "2      ['Dudley Moore', 'Bo Derek', 'Julie Andrews']   1979-10-05   \n",
       "3       ['Morgan Freeman', 'Paz Vega', 'Jonah Hill']   2006-09-11   \n",
       "4  ['Richard Attenborough', 'Judy Geeson', 'John ...   1971-02-10   \n",
       "\n",
       "   running_time_secs                                          image_url  \n",
       "0               5700  http://ia.media-imdb.com/images/M/MV5BMTk5MjM4...  \n",
       "1               5700  http://ia.media-imdb.com/images/M/MV5BMTQwOTA5...  \n",
       "2               7320  http://ia.media-imdb.com/images/M/MV5BMTg1NDQ1...  \n",
       "3               4920  http://ia.media-imdb.com/images/M/MV5BMTI1MTU4...  \n",
       "4               6660  http://ia.media-imdb.com/images/M/MV5BMTc4MzM5...  "
      ]
     },
     "execution_count": 3,
     "metadata": {},
     "output_type": "execute_result"
    }
   ],
   "source": [
    "#import csv bulk file\n",
    "now = datetime.datetime.now()\n",
    "index_csv = pd.read_csv('panda_movies_r1.csv')\n",
    "#index_csv['date'] = now.strftime(\"%Y-%m-%d\")\n",
    "index_csv.head()"
   ]
  },
  {
   "cell_type": "code",
   "execution_count": 4,
   "metadata": {},
   "outputs": [
    {
     "name": "stdout",
     "output_type": "stream",
     "text": [
      "('{\"settings\": {\"index.mapping.ignore_malformed\": true}, \"mappings\": '\n",
      " '{\"movies\": {\"properties\": {\"title\": {\"type\": \"text\", \"fields\": {\"keyword\": '\n",
      " '{\"type\": \"keyword\", \"ignore_above\": 256}}}, \"release_date\": {\"type\": \"date\", '\n",
      " '\"format\": \"YYYY-MM-dd\"}, \"genres\": {\"type\": \"text\", \"fields\": {\"keyword\": '\n",
      " '{\"type\": \"keyword\", \"ignore_above\": 256}}}, \"plot\": {\"type\": \"text\", '\n",
      " '\"fields\": {\"keyword\": {\"type\": \"keyword\", \"ignore_above\": 256}}}, '\n",
      " '\"directors\": {\"type\": \"text\", \"fields\": {\"keyword\": {\"type\": \"keyword\", '\n",
      " '\"ignore_above\": 256}}}, \"actors\": {\"type\": \"text\", \"fields\": {\"keyword\": '\n",
      " '{\"type\": \"keyword\", \"ignore_above\": 256}}}, \"rating\": {\"type\": \"float\"}, '\n",
      " '\"year\": {\"type\": \"integer\"}, \"rank\": {\"type\": \"integer\"}, '\n",
      " '\"running_time_secs\": {\"type\": \"integer\"}, \"image_url\": {\"type\": \"text\", '\n",
      " '\"fields\": {\"keyword\": {\"type\": \"keyword\", \"ignore_above\": 256}}}}}}}')\n"
     ]
    }
   ],
   "source": [
    "#Load mapping file\n",
    "with open('{}_mapping.json'.format(mapping_name)) as f:\n",
    "    data = json.load(f)\n",
    "    \n",
    "#Convert to string\n",
    "mapping = json.dumps(data)\n",
    "pprint(mapping)"
   ]
  },
  {
   "cell_type": "markdown",
   "metadata": {},
   "source": [
    "### Create elasticsearch connection"
   ]
  },
  {
   "cell_type": "code",
   "execution_count": 5,
   "metadata": {},
   "outputs": [],
   "source": [
    "# Local Elasticsearch\n",
    "# Use this or else AWS blocks below\n",
    "# connects to port 9300 by default\n",
    "es = Elasticsearch()"
   ]
  },
  {
   "cell_type": "code",
   "execution_count": 9,
   "metadata": {},
   "outputs": [
    {
     "name": "stdout",
     "output_type": "stream",
     "text": [
      "{'name': 'MJtp04b', 'cluster_name': '634195893235:movies', 'cluster_uuid': 'ymqDfLcWQkGDXG-otApe-A', 'version': {'number': '6.3.1', 'build_flavor': 'oss', 'build_type': 'zip', 'build_hash': 'eb782d0', 'build_date': '2018-09-11T14:05:25.216906Z', 'build_snapshot': False, 'lucene_version': '7.3.1', 'minimum_wire_compatibility_version': '5.6.0', 'minimum_index_compatibility_version': '5.0.0'}, 'tagline': 'You Know, for Search'}\n"
     ]
    }
   ],
   "source": [
    "# AWS Elasticsearch\n",
    "# Don't run this if local version is being used\n",
    "# Authorization\n",
    "# If we have an open policy on AWS ES this block is not needed and http_auth must be commented out below\n",
    "region = 'us-west-2' \n",
    "service = 'es'\n",
    "#Credentials calls the user keys identified from aws-cli command aws configure\n",
    "credentials = boto3.Session().get_credentials()\n",
    "awsauth = AWS4Auth(credentials.access_key, credentials.secret_key, region, service, session_token=credentials.token)\n",
    "\n",
    "#Create ES Connection with AWS\n",
    "#AWS ES endpoint link\n",
    "host = es_endpoint\n",
    "\n",
    "es = Elasticsearch(\n",
    "    hosts=[{'host': host, 'port': 443}],\n",
    "    http_auth=awsauth,\n",
    "    use_ssl=True,\n",
    "    verify_certs=True,\n",
    "    connection_class=RequestsHttpConnection\n",
    ")\n",
    "print(es.info())"
   ]
  },
  {
   "cell_type": "markdown",
   "metadata": {},
   "source": [
    "## Check cluster and index "
   ]
  },
  {
   "cell_type": "code",
   "execution_count": 6,
   "metadata": {},
   "outputs": [
    {
     "data": {
      "text/plain": [
       "{'cluster_name': 'elasticsearch',\n",
       " 'status': 'yellow',\n",
       " 'timed_out': False,\n",
       " 'number_of_nodes': 1,\n",
       " 'number_of_data_nodes': 1,\n",
       " 'active_primary_shards': 33,\n",
       " 'active_shards': 33,\n",
       " 'relocating_shards': 0,\n",
       " 'initializing_shards': 0,\n",
       " 'unassigned_shards': 30,\n",
       " 'delayed_unassigned_shards': 0,\n",
       " 'number_of_pending_tasks': 0,\n",
       " 'number_of_in_flight_fetch': 0,\n",
       " 'task_max_waiting_in_queue_millis': 0,\n",
       " 'active_shards_percent_as_number': 52.38095238095239}"
      ]
     },
     "execution_count": 6,
     "metadata": {},
     "output_type": "execute_result"
    }
   ],
   "source": [
    "#Check Cluster Health\n",
    "es.cluster.health()"
   ]
  },
  {
   "cell_type": "code",
   "execution_count": 7,
   "metadata": {},
   "outputs": [
    {
     "data": {
      "text/plain": [
       "'yellow open  28xx             fvC2d0ctQDiW721x98Sj3Q 5 1 12043 0 33.6mb 33.6mb\\ngreen  open  .tasks           4d4J387tQUeJVwEBQtEZtQ 1 0     3 0 18.1kb 18.1kb\\nyellow open  skyline          xU-aeMljRyyPGeHXT54q3A 5 1  8282 0 24.7mb 24.7mb\\nyellow open  tesla_procedures RH4YIj_rSD-gXXX0uCuYxQ 5 1  4849 0  4.8mb  4.8mb\\ngreen  open  .kibana_2        hawyYA63Q2KlN6MxJrg33g 1 0    18 2 72.1kb 72.1kb\\n       close equality         6jlUmliMRNqIGZA6owgWwQ                          \\nyellow open  29xx             8CGKhZ4WSk21gV8hF0wQKQ 5 1 15355 0 44.8mb 44.8mb\\nyellow open  movies           g5HxrnaOTSi7xUjxVEkn3g 5 1  5000 0    6mb    6mb\\nyellow open  rapid            GtqrufLiQDGgeiFv0GIL0g 5 1 11759 0 30.9mb 30.9mb\\ngreen  open  .kibana_1        c1TjhiZdRgabetvFbEQmAg 1 0    13 0 30.6kb 30.6kb\\n'"
      ]
     },
     "execution_count": 7,
     "metadata": {},
     "output_type": "execute_result"
    }
   ],
   "source": [
    "# Index Info\n",
    "es.cat.indices()"
   ]
  },
  {
   "cell_type": "code",
   "execution_count": 8,
   "metadata": {},
   "outputs": [],
   "source": [
    "# Delete index if exists\n",
    "if es.indices.exists('{}'.format(index_name)):\n",
    "        es.indices.delete(index='{}'.format(index_name))"
   ]
  },
  {
   "cell_type": "code",
   "execution_count": 9,
   "metadata": {},
   "outputs": [
    {
     "data": {
      "text/plain": [
       "'yellow open  28xx             fvC2d0ctQDiW721x98Sj3Q 5 1 12043 0 33.6mb 33.6mb\\ngreen  open  .tasks           4d4J387tQUeJVwEBQtEZtQ 1 0     3 0 18.1kb 18.1kb\\nyellow open  skyline          xU-aeMljRyyPGeHXT54q3A 5 1  8282 0 24.7mb 24.7mb\\nyellow open  tesla_procedures RH4YIj_rSD-gXXX0uCuYxQ 5 1  4849 0  4.8mb  4.8mb\\ngreen  open  .kibana_2        hawyYA63Q2KlN6MxJrg33g 1 0    18 2 72.1kb 72.1kb\\n       close equality         6jlUmliMRNqIGZA6owgWwQ                          \\nyellow open  29xx             8CGKhZ4WSk21gV8hF0wQKQ 5 1 15355 0 44.8mb 44.8mb\\nyellow open  rapid            GtqrufLiQDGgeiFv0GIL0g 5 1 11759 0 30.9mb 30.9mb\\ngreen  open  .kibana_1        c1TjhiZdRgabetvFbEQmAg 1 0    13 0 30.6kb 30.6kb\\n'"
      ]
     },
     "execution_count": 9,
     "metadata": {},
     "output_type": "execute_result"
    }
   ],
   "source": [
    "# Index Info\n",
    "es.cat.indices()"
   ]
  },
  {
   "cell_type": "code",
   "execution_count": 10,
   "metadata": {},
   "outputs": [
    {
     "data": {
      "text/plain": [
       "{'acknowledged': True, 'shards_acknowledged': True, 'index': 'movies'}"
      ]
     },
     "execution_count": 10,
     "metadata": {},
     "output_type": "execute_result"
    }
   ],
   "source": [
    "# Create new index w/ mapping\n",
    "es.indices.create(index='{}'.format(index_name), ignore=400, body=mapping)"
   ]
  },
  {
   "cell_type": "code",
   "execution_count": 11,
   "metadata": {},
   "outputs": [
    {
     "data": {
      "text/plain": [
       "'yellow open  28xx             fvC2d0ctQDiW721x98Sj3Q 5 1 12043 0 33.6mb 33.6mb\\ngreen  open  .tasks           4d4J387tQUeJVwEBQtEZtQ 1 0     3 0 18.1kb 18.1kb\\nyellow open  skyline          xU-aeMljRyyPGeHXT54q3A 5 1  8282 0 24.7mb 24.7mb\\nyellow open  tesla_procedures RH4YIj_rSD-gXXX0uCuYxQ 5 1  4849 0  4.8mb  4.8mb\\ngreen  open  .kibana_2        hawyYA63Q2KlN6MxJrg33g 1 0    18 2 72.1kb 72.1kb\\nyellow open  movies           DfVHWk4pQm6oxgq6HFEp2g 5 1     0 0   460b   460b\\n       close equality         6jlUmliMRNqIGZA6owgWwQ                          \\nyellow open  29xx             8CGKhZ4WSk21gV8hF0wQKQ 5 1 15355 0 44.8mb 44.8mb\\nyellow open  rapid            GtqrufLiQDGgeiFv0GIL0g 5 1 11759 0 30.9mb 30.9mb\\ngreen  open  .kibana_1        c1TjhiZdRgabetvFbEQmAg 1 0    13 0 30.6kb 30.6kb\\n'"
      ]
     },
     "execution_count": 11,
     "metadata": {},
     "output_type": "execute_result"
    }
   ],
   "source": [
    "# Index Info\n",
    "es.cat.indices()"
   ]
  },
  {
   "cell_type": "code",
   "execution_count": 12,
   "metadata": {},
   "outputs": [
    {
     "data": {
      "application/vnd.jupyter.widget-view+json": {
       "model_id": "9c963e0305e345fcaa99df75974c9acf",
       "version_major": 2,
       "version_minor": 0
      },
      "text/plain": [
       "HBox(children=(IntProgress(value=1, bar_style='info', max=1), HTML(value='')))"
      ]
     },
     "metadata": {},
     "output_type": "display_data"
    },
    {
     "name": "stdout",
     "output_type": "stream",
     "text": [
      "\n"
     ]
    }
   ],
   "source": [
    "# build bulk index files\n",
    "for i,row in tqdm_notebook(index_csv.iterrows()):\n",
    "            actions = [\n",
    "                {\n",
    "                  \"_index\" : index_name,\n",
    "                  \"_type\" : mapping_name,\n",
    "                  \"_id\" : i,\n",
    "                  \"_source\" : index_csv.iloc[i].to_json(orient=\"index\")\n",
    "                }]\n",
    "            helpers.bulk(es, actions, raise_on_exception=False, request_timeout=30)   "
   ]
  },
  {
   "cell_type": "code",
   "execution_count": 13,
   "metadata": {},
   "outputs": [
    {
     "data": {
      "text/plain": [
       "'yellow open  28xx             fvC2d0ctQDiW721x98Sj3Q 5 1 12043 0 33.6mb 33.6mb\\ngreen  open  .tasks           4d4J387tQUeJVwEBQtEZtQ 1 0     3 0 18.1kb 18.1kb\\nyellow open  skyline          xU-aeMljRyyPGeHXT54q3A 5 1  8282 0 24.7mb 24.7mb\\nyellow open  tesla_procedures RH4YIj_rSD-gXXX0uCuYxQ 5 1  4849 0  4.8mb  4.8mb\\ngreen  open  .kibana_2        hawyYA63Q2KlN6MxJrg33g 1 0    18 2 72.2kb 72.2kb\\nyellow open  movies           DfVHWk4pQm6oxgq6HFEp2g 5 1  5000 0  6.3mb  6.3mb\\n       close equality         6jlUmliMRNqIGZA6owgWwQ                          \\nyellow open  29xx             8CGKhZ4WSk21gV8hF0wQKQ 5 1 15355 0 44.8mb 44.8mb\\nyellow open  rapid            GtqrufLiQDGgeiFv0GIL0g 5 1 11759 0 30.9mb 30.9mb\\ngreen  open  .kibana_1        c1TjhiZdRgabetvFbEQmAg 1 0    13 0 30.6kb 30.6kb\\n'"
      ]
     },
     "execution_count": 13,
     "metadata": {},
     "output_type": "execute_result"
    }
   ],
   "source": [
    "# Index Info\n",
    "es.cat.indices()"
   ]
  },
  {
   "cell_type": "code",
   "execution_count": null,
   "metadata": {},
   "outputs": [],
   "source": []
  }
 ],
 "metadata": {
  "kernelspec": {
   "display_name": "Python 3",
   "language": "python",
   "name": "python3"
  },
  "language_info": {
   "codemirror_mode": {
    "name": "ipython",
    "version": 3
   },
   "file_extension": ".py",
   "mimetype": "text/x-python",
   "name": "python",
   "nbconvert_exporter": "python",
   "pygments_lexer": "ipython3",
   "version": "3.7.0"
  }
 },
 "nbformat": 4,
 "nbformat_minor": 2
}
